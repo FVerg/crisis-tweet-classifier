{
 "cells": [
  {
   "cell_type": "code",
   "execution_count": 27,
   "metadata": {},
   "outputs": [
    {
     "name": "stderr",
     "output_type": "stream",
     "text": [
      "c:\\python36\\lib\\site-packages\\ipykernel_launcher.py:21: SettingWithCopyWarning: \n",
      "A value is trying to be set on a copy of a slice from a DataFrame\n",
      "\n",
      "See the caveats in the documentation: http://pandas.pydata.org/pandas-docs/stable/indexing.html#indexing-view-versus-copy\n"
     ]
    }
   ],
   "source": [
    "import nltk\n",
    "import pandas as pd\n",
    "\n",
    "pd.options.mode.chained_assignment = None\n",
    "\n",
    "def pos_tweet(tweet):\n",
    "    pos = nltk.sent_tokenize(tweet)\n",
    "    pos = [nltk.word_tokenize(sent) for sent in pos]\n",
    "    pos = [nltk.pos_tag(sent) for sent in pos]\n",
    "    return pos\n",
    "\n",
    "\n",
    "dataset = pd.read_csv('C:/dataset/2013_pakistan_eq.csv', header=0)\n",
    "\n",
    "\n",
    "dataset.set_index('tweet_id')\n",
    "\n",
    "tweet_ids = dataset['tweet_id']\n",
    "tweet_texts = dataset['tweet_text']\n",
    "\n",
    "for i in range(0, tweet_ids.size):\n",
    "    tweet_ids[i] = tweet_ids[i].replace(\"'\", \"\")\n",
    "\n",
    "tagged_tweets = []\n",
    "\n",
    "for id, text in zip(tweet_ids, tweet_texts):\n",
    "    tagged_tweets.append({\"TweetID\": id, \"Text\": text, \"POS\": pos_tweet(text)})"
   ]
  },
  {
   "cell_type": "code",
   "execution_count": null,
   "metadata": {},
   "outputs": [],
   "source": []
  },
  {
   "cell_type": "code",
   "execution_count": null,
   "metadata": {},
   "outputs": [],
   "source": []
  },
  {
   "cell_type": "code",
   "execution_count": null,
   "metadata": {},
   "outputs": [],
   "source": []
  }
 ],
 "metadata": {
  "kernelspec": {
   "display_name": "Python 3",
   "language": "python",
   "name": "python3"
  },
  "language_info": {
   "codemirror_mode": {
    "name": "ipython",
    "version": 3
   },
   "file_extension": ".py",
   "mimetype": "text/x-python",
   "name": "python",
   "nbconvert_exporter": "python",
   "pygments_lexer": "ipython3",
   "version": "3.6.5"
  }
 },
 "nbformat": 4,
 "nbformat_minor": 2
}
